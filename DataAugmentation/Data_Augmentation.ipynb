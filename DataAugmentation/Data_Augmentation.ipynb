{
 "cells": [
  {
   "cell_type": "markdown",
   "metadata": {
    "id": "asnIkqOZmFxB"
   },
   "source": [
    "## Компьютерное зрение | Дополнение данных\n",
    "Чтобы сеть лучше обучалась на небольшом наборе данных, можно использовать дополнение данных — технику изменения изображений в обучающем наборе и добавление их в набор. Так, сеть получит больше различных примеров для обучения и, соответственно, будет показывать лучшие результаты.\n",
    "\n",
    "- Папка с папкой для изображений: \"Dataset\" (можно изменить в train_dir)\n",
    "- Размер выходных изображений: 150x150 (можно изменить в img_width, img_height)\n",
    "- Количество выходных изображений: 9 (можно изменить в number_output_images)\n",
    "\n",
    "\n",
    "- Редактировать параметры изменения изображений можно в train_datagen.\n",
    "- Чтобы убрать инвертирование в функции random_invert_img поставте параметр p = 0"
   ]
  },
  {
   "cell_type": "markdown",
   "metadata": {
    "id": "CQC_xsKRPt2R"
   },
   "source": [
    "## Настройки\n",
    "Укажем пути к папкам с изображениями, их нужный размер, параметры для обучения"
   ]
  },
  {
   "cell_type": "code",
   "execution_count": 1,
   "metadata": {
    "id": "gKjw6F-4Pt2T"
   },
   "outputs": [],
   "source": [
    "# Путь от этого файла до папки содержащей ТОЛЬКО папку с изображениями\n",
    "train_dir = F'Dataset'\n",
    "# Размер выходных изображений\n",
    "img_width, img_height = 150, 150\n",
    "# Количество выходных изображений\n",
    "number_output_images = 9"
   ]
  },
  {
   "cell_type": "markdown",
   "metadata": {
    "id": "sm_81fnhomzL"
   },
   "source": [
    "## Подключение библиотек"
   ]
  },
  {
   "cell_type": "code",
   "execution_count": 2,
   "metadata": {
    "id": "rtHqylV-omza"
   },
   "outputs": [],
   "source": [
    "# Библиотека для генератора (его можно использовать для обучения и тестирования)\n",
    "from tensorflow.python.keras.preprocessing.image import ImageDataGenerator\n",
    "# Библиотека для работы с изображениями\n",
    "from tensorflow.random import uniform\n",
    "from tensorflow.keras.preprocessing.image import save_img\n",
    "import os"
   ]
  },
  {
   "cell_type": "markdown",
   "metadata": {
    "id": "EzLpjhv_Pt3J"
   },
   "source": [
    "## Создаем генератор изображений\n",
    "Генератор изображений создается на основе класса ImageDataGenerator. Генератор делит значения всех пикселов изображения на 255. Для тестовых данных он дополняет изменёнными изображениями."
   ]
  },
  {
   "cell_type": "code",
   "execution_count": 3,
   "metadata": {
    "id": "yBKkTH-4Pt3O"
   },
   "outputs": [],
   "source": [
    "# Генератор для обучения\n",
    "train_datagen = ImageDataGenerator(rotation_range = 180, # Поворот изображения\n",
    "                                   width_shift_range = 0.1, # Сдвиг по горизонтали\n",
    "                                   height_shift_range = 0.1, # Сдвиг по вертикали\n",
    "                                   zoom_range = 0.1, # Увеличение/уменьшение\n",
    "                                   horizontal_flip = False, # Отражение\n",
    "                                   fill_mode = 'nearest') # Режим заполнения за границами исходного изображения"
   ]
  },
  {
   "cell_type": "markdown",
   "metadata": {
    "id": "NpoCMdEvPt3W"
   },
   "source": [
    "Генератор данных для обучения, проверки и тестирования на основе изображений из каталога"
   ]
  },
  {
   "cell_type": "code",
   "execution_count": 4,
   "metadata": {
    "colab": {
     "base_uri": "https://localhost:8080/",
     "height": 72
    },
    "id": "eobr1wFKPt3X",
    "outputId": "0668826a-242c-4279-f16d-acbd0a553818"
   },
   "outputs": [
    {
     "name": "stdout",
     "output_type": "stream",
     "text": [
      "Found 3 images belonging to 1 classes.\n"
     ]
    }
   ],
   "source": [
    "# Генератор\n",
    "train_generator = train_datagen.flow_from_directory(\n",
    "    train_dir,\n",
    "    target_size = (img_width, img_height),\n",
    "    batch_size = 1)"
   ]
  },
  {
   "cell_type": "code",
   "execution_count": 5,
   "metadata": {},
   "outputs": [],
   "source": [
    "# Фукнкция случайного инвертирования цвета\n",
    "def random_invert_img(x, p=0.5):\n",
    "  if  uniform([]) < p:\n",
    "    x = (255-x)\n",
    "  else:\n",
    "    x\n",
    "  return x"
   ]
  },
  {
   "cell_type": "markdown",
   "metadata": {},
   "source": [
    "### Сохранение аугментированных изображений"
   ]
  },
  {
   "cell_type": "code",
   "execution_count": 6,
   "metadata": {},
   "outputs": [
    {
     "name": "stdout",
     "output_type": "stream",
     "text": [
      "Warning: Can't remove dir\n"
     ]
    }
   ],
   "source": [
    "result_path = F'AugmentedDataset'\n",
    "try:\n",
    "    os.rmdir(result_path)\n",
    "except:\n",
    "    print(\"Warning: Can't remove dir\")\n",
    "try:\n",
    "    os.mkdir(result_path)\n",
    "except:\n",
    "    print(\"Warning: Can't create dir\")\n",
    "i = 0 \n",
    "for augmented_image, num_channels in train_generator:\n",
    "    filename = result_path+'/'+str(i)+\".jpg\"\n",
    "    save_img(filename, random_invert_img(augmented_image[0]))\n",
    "    i+=1\n",
    "    if i>=number_output_images:\n",
    "        break;"
   ]
  },
  {
   "cell_type": "code",
   "execution_count": null,
   "metadata": {},
   "outputs": [],
   "source": []
  }
 ],
 "metadata": {
  "accelerator": "GPU",
  "colab": {
   "collapsed_sections": [],
   "name": "Data Augmentation.ipynb",
   "provenance": []
  },
  "kernelspec": {
   "display_name": "Python 3",
   "language": "python",
   "name": "python3"
  },
  "language_info": {
   "codemirror_mode": {
    "name": "ipython",
    "version": 3
   },
   "file_extension": ".py",
   "mimetype": "text/x-python",
   "name": "python",
   "nbconvert_exporter": "python",
   "pygments_lexer": "ipython3",
   "version": "3.7.6"
  }
 },
 "nbformat": 4,
 "nbformat_minor": 1
}
