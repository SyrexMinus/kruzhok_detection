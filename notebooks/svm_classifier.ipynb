{
 "cells": [
  {
   "cell_type": "markdown",
   "metadata": {
    "id": "urv9xtbg5vMs"
   },
   "source": [
    "### Подключаем библиотеки"
   ]
  },
  {
   "cell_type": "markdown",
   "metadata": {
    "id": "EtQbgYNY5vM2"
   },
   "source": [
    "### Задаём необходимые функции"
   ]
  },
  {
   "cell_type": "code",
   "execution_count": 1,
   "metadata": {
    "executionInfo": {
     "elapsed": 2436,
     "status": "ok",
     "timestamp": 1601906806421,
     "user": {
      "displayName": "Сурначев Никита",
      "photoUrl": "",
      "userId": "06713969920483024372"
     },
     "user_tz": -180
    },
    "id": "eO4PwvdV9WDX"
   },
   "outputs": [],
   "source": [
    "# Подключаем библиотеки\n",
    "import cv2\n",
    "import matplotlib.pyplot as plt\n",
    "\n",
    "from google.colab import drive\n",
    "import tqdm\n",
    "import numpy as np\n",
    "import os\n",
    "\n",
    "from sklearn.svm import SVC\n",
    "import pickle\n",
    "from joblib import dump, load\n",
    "\n",
    "from skimage import feature\n",
    "from skimage import exposure\n",
    "from skimage import feature\n",
    "\n",
    "import numpy as np\n",
    "from sklearn.pipeline import make_pipeline\n",
    "from sklearn.preprocessing import StandardScaler\n",
    "\n",
    "%matplotlib inline"
   ]
  },
  {
   "cell_type": "code",
   "execution_count": null,
   "metadata": {
    "colab": {
     "base_uri": "https://localhost:8080/",
     "height": 55
    },
    "executionInfo": {
     "elapsed": 1860,
     "status": "ok",
     "timestamp": 1601872588513,
     "user": {
      "displayName": "Сурначев Никита",
      "photoUrl": "",
      "userId": "06713969920483024372"
     },
     "user_tz": -180
    },
    "id": "qgOxm4qo9cm1",
    "outputId": "2b3d2a0f-d82e-4ba7-f0c0-f0f5a3ea368c"
   },
   "outputs": [
    {
     "name": "stdout",
     "output_type": "stream",
     "text": [
      "Drive already mounted at /content/drive; to attempt to forcibly remount, call drive.mount(\"/content/drive\", force_remount=True).\n"
     ]
    }
   ],
   "source": [
    "drive.mount('/content/drive')\n",
    "WORKING_DIRECTORY = '/content/drive/My Drive/nti-logo-recognition/'\n",
    "os.chdir(WORKING_DIRECTORY)"
   ]
  },
  {
   "cell_type": "code",
   "execution_count": null,
   "metadata": {
    "id": "kUI6RSvB5vM3"
   },
   "outputs": [],
   "source": [
    "# Извлечение HOG из картинки\n",
    "# Библиотеки для функции HOG\n",
    "\n",
    "\n",
    "# Параметры HOG\n",
    "_orientations = 15 # количество направлений градиентов\n",
    "_pixels_per_cell = (16, 16) # количество пикселей на клетку\n",
    "_cells_per_block = (4, 4) # Количество клеток на блок\n",
    "_transform_sqrt = True # Уборка шумов с помощью корня\n",
    "_block_norm = \"L1\" # Метод нормализации блока\n",
    "_visualize = True # Визуализация\n",
    "settings = [_orientations, _pixels_per_cell, _cells_per_block, _transform_sqrt, _block_norm, _visualize]\n",
    "\n",
    "# Параметры обработки входных изображений\n",
    "IMG_HEIGHT = 200 # Высота\n",
    "IMG_WIDTH = 200 # Ширина\n",
    "\n",
    "# Функция извлечение карты HOG и её изображения\n",
    "def GetHOG (img, settings): # Входное изображеине\n",
    "    HOG, img_HOG = feature.hog(img, \n",
    "                               orientations = settings[0], \n",
    "                               pixels_per_cell = settings[1], \n",
    "                               cells_per_block = settings[2], \n",
    "                               transform_sqrt = settings[3], \n",
    "                               block_norm = settings[4],\n",
    "                               visualize = settings[5])\n",
    "    return (HOG, img_HOG)"
   ]
  },
  {
   "cell_type": "code",
   "execution_count": null,
   "metadata": {
    "id": "K6UtPzss5vM9"
   },
   "outputs": [],
   "source": [
    "# Функция конвертации цвета\n",
    "def convert(frame, src_model = \"rgb\", dest_model = \"hls\"):\n",
    "    \n",
    "    if src_model == \"rgb\" and dest_model == \"hsv\": \n",
    "      frame = cv2.cvtColor(frame, cv2.COLOR_RGB2HSV)\n",
    "    elif src_model == \"rgb\" and dest_model == \"hls\":\n",
    "      frame = cv2.cvtColor(frame, cv2.COLOR_RGB2HLS)\n",
    "    elif src_model == \"rgb\" and dest_model == \"yuv\":\n",
    "      frame = cv2.cvtColor(frame, cv2.COLOR_RGB2YUV)\n",
    "    elif src_model == \"rgb\" and dest_model == \"ycrcb\":\n",
    "      frame = cv2.cvtColor(frame, cv2.COLOR_RGB2YCR_CB)\n",
    "    elif src_model == \"hsv\" and dest_model == \"rgb\":\n",
    "      frame = cv2.cvtColor(frame, cv2.COLOR_HSV2RGB)\n",
    "    elif src_model == \"hls\" and dest_model == \"rgb\":\n",
    "      frame = cv2.cvtColor(frame, cv2.COLOR_HLS2RGB)\n",
    "    elif src_model == \"yuv\" and dest_model == \"yuv\":\n",
    "      frame = cv2.cvtColor(frame, cv2.COLOR_YUV2RGB)\n",
    "    elif src_model == \"ycrcb\" and dest_model == \"ycrcb\":\n",
    "      frame = cv2.cvtColor(frame, cv2.COLOR_YCR_CB2RGB)\n",
    "    elif (src_model == \"rgb\" and dest_model == \"bgr\") or (src_model == \"bgr\" and dest_model == \"rgb\"):\n",
    "      frame = cv2.cvtColor(frame, cv2.COLOR_RGB2BGR)\n",
    "    else: \n",
    "      raise Exception('ERROR:', 'src_model or dest_model not implemented')\n",
    "\n",
    "    return frame"
   ]
  },
  {
   "cell_type": "markdown",
   "metadata": {
    "id": "2FsRzNL15vNB"
   },
   "source": [
    "### Загружаем в память датасеты для обучения и тестирования"
   ]
  },
  {
   "cell_type": "code",
   "execution_count": null,
   "metadata": {
    "id": "uoyyPf8U_dLJ"
   },
   "outputs": [],
   "source": [
    "images_ann = open(\"./data/annotated_logos/zeros/classes.txt\").read().split()\n",
    "\n",
    "get_image_class = {}\n",
    "\n",
    "for img_a in images_ann:\n",
    "    image_name, cl = img_a.split(\";\")\n",
    "    get_image_class[image_name] = int(cl)"
   ]
  },
  {
   "cell_type": "code",
   "execution_count": null,
   "metadata": {
    "id": "-s0KLiEW9rNg"
   },
   "outputs": [],
   "source": [
    "train_dataset_dir = \"./data/annotated_logos/zeros/train/\"\n",
    "test_dataset_dir = \"./data/annotated_logos/zeros/test/\""
   ]
  },
  {
   "cell_type": "code",
   "execution_count": null,
   "metadata": {
    "id": "Z7vkbj615vND"
   },
   "outputs": [],
   "source": [
    "# Обучающие данные\n",
    "# Библиотеки для классификатора\n",
    "\n",
    "\n",
    "# Обучающие данные\n",
    "X = np.array([]) # Массив тестов — признаки\n",
    "y = np.array([]) # Массив тестов — ответы\n",
    "# Тестировочные данные\n",
    "X_test = np.array([]) # Массив тестов — признаки\n",
    "y_test = np.array([]) # Массив тестов — ответы\n",
    "\n",
    "# Тренировочные данные\n",
    "for num_file in range(len(os.listdir(train_dataset_dir))):\n",
    "    # Путь к очередному файлу\n",
    "    image_name = os.listdir(train_dataset_dir)[num_file]\n",
    "    path = train_dataset_dir+image_name\n",
    "    # Пропускаем итерацию, если файл - не картинка\n",
    "    if(path[-3:]!='jpg'):\n",
    "        continue\n",
    "    # Откроем файл\n",
    "    img = cv2.imread(path)\n",
    "    img = convert(img, 'bgr', 'rgb')\n",
    "    # Отмасштабируем его\n",
    "    img = cv2.resize(img, (IMG_WIDTH, IMG_HEIGHT))\n",
    "    \n",
    "    # Возьмем HOG в качестве признака\n",
    "    HOG, HOG_img = GetHOG(img.copy(), settings)\n",
    "    # Поместим HOG во входные данные\n",
    "    if X.size == 0: # Проверим существования данных в массиве для соблюдения его размерности\n",
    "        X = np.array([HOG])\n",
    "    else:\n",
    "        X = np.append(X, [HOG], axis = 0)\n",
    "    # Поместим ответ к картинке\n",
    "    \n",
    "\n",
    "    # label = int(image_name.split(\".\")[0].split(\"_\")[1]) + 1\n",
    "    label = get_image_class[image_name] + 1\n",
    "    y = np.append(y, label)"
   ]
  },
  {
   "cell_type": "code",
   "execution_count": null,
   "metadata": {
    "id": "v4fpm5BZ3eKr"
   },
   "outputs": [],
   "source": [
    "# Тестировочные данные\n",
    "for num_file in range(len(os.listdir(test_dataset_dir))):\n",
    "    # Путь к очередному файлу\n",
    "    image_name = os.listdir(test_dataset_dir)[num_file]\n",
    "    path = test_dataset_dir+str(os.listdir(test_dataset_dir)[num_file])\n",
    "    # Пропускаем итерацию, если файл - не картинка\n",
    "    if(path[-3:]!='jpg'):\n",
    "        continue\n",
    "    # Откроем файл\n",
    "    img = cv2.imread(path)\n",
    "    img = convert(img, 'bgr', 'rgb')\n",
    "    # Отмасштабируем его\n",
    "    img = cv2.resize(img, (IMG_WIDTH, IMG_HEIGHT))\n",
    "    \n",
    "    # Возьмем HOG в качестве признака\n",
    "    HOG, HOG_img = GetHOG(img.copy(), settings)\n",
    "    # Поместим HOG во входные данные\n",
    "    if X_test.size == 0: # Проверим существования данных в массиве для соблюдения его размерности\n",
    "        X_test = np.array([HOG])\n",
    "    else:\n",
    "        X_test = np.append(X_test, [HOG], axis = 0)\n",
    "    # Поместим ответ к картинке\n",
    "    label = get_image_class[image_name] + 1\n",
    "    y_test = np.append(y_test, label)"
   ]
  },
  {
   "cell_type": "code",
   "execution_count": null,
   "metadata": {
    "colab": {
     "base_uri": "https://localhost:8080/",
     "height": 35
    },
    "executionInfo": {
     "elapsed": 131035,
     "status": "ok",
     "timestamp": 1601872717726,
     "user": {
      "displayName": "Сурначев Никита",
      "photoUrl": "",
      "userId": "06713969920483024372"
     },
     "user_tz": -180
    },
    "id": "Wa5EyTLJM2by",
    "outputId": "e2708c92-3bd9-4416-c677-6e902e203b0c"
   },
   "outputs": [
    {
     "data": {
      "text/plain": [
       "(238, 968)"
      ]
     },
     "execution_count": 10,
     "metadata": {
      "tags": []
     },
     "output_type": "execute_result"
    }
   ],
   "source": [
    "(y == 1).sum(), (y == 2).sum()"
   ]
  },
  {
   "cell_type": "markdown",
   "metadata": {
    "id": "SPiCkJkj5vNH"
   },
   "source": [
    "### Обучаем модель"
   ]
  },
  {
   "cell_type": "code",
   "execution_count": null,
   "metadata": {
    "colab": {
     "base_uri": "https://localhost:8080/",
     "height": 35
    },
    "executionInfo": {
     "elapsed": 154053,
     "status": "ok",
     "timestamp": 1601872740748,
     "user": {
      "displayName": "Сурначев Никита",
      "photoUrl": "",
      "userId": "06713969920483024372"
     },
     "user_tz": -180
    },
    "id": "KahYZnX45vNI",
    "outputId": "45eddc7f-3cba-4523-d597-1887aea6819d"
   },
   "outputs": [
    {
     "data": {
      "text/plain": [
       "['classifier.joblib']"
      ]
     },
     "execution_count": 11,
     "metadata": {
      "tags": []
     },
     "output_type": "execute_result"
    }
   ],
   "source": [
    "# Обучим предсказывающую модель\n",
    "\n",
    "clf = make_pipeline(StandardScaler(), SVC(gamma='auto')) # Предсказывающая модель\n",
    "clf.fit(X, y) # Обучим модель на данных X и y\n",
    "dump(clf, 'classifier.joblib') "
   ]
  },
  {
   "cell_type": "code",
   "execution_count": null,
   "metadata": {
    "id": "_qA0ySNPCHMk"
   },
   "outputs": [],
   "source": [
    "clf = load('./classifier.joblib') "
   ]
  },
  {
   "cell_type": "markdown",
   "metadata": {
    "id": "FAjnEIcW5vNN"
   },
   "source": [
    "### Протестируем модель"
   ]
  },
  {
   "cell_type": "code",
   "execution_count": null,
   "metadata": {
    "id": "gHxiXscx5vNO"
   },
   "outputs": [],
   "source": [
    "# Функция теста точности модели\n",
    "def TestPrediction(model, questions, answers):\n",
    "    modelAnswers = clf.predict(questions)\n",
    "    countRight = 0\n",
    "    countAnswers = len(modelAnswers)\n",
    "    for i in range(len(modelAnswers)):\n",
    "        if int(modelAnswers[i]) == answers[i]:\n",
    "            countRight += 1\n",
    "    # Количество правильных ответов ко всем\n",
    "    return float(countRight)/countAnswers"
   ]
  },
  {
   "cell_type": "code",
   "execution_count": null,
   "metadata": {
    "colab": {
     "base_uri": "https://localhost:8080/",
     "height": 35
    },
    "executionInfo": {
     "elapsed": 154436,
     "status": "ok",
     "timestamp": 1601872741142,
     "user": {
      "displayName": "Сурначев Никита",
      "photoUrl": "",
      "userId": "06713969920483024372"
     },
     "user_tz": -180
    },
    "id": "AgQTDKWF5vNR",
    "outputId": "3506a221-b261-42fb-e02d-fa1a16974e5d"
   },
   "outputs": [
    {
     "name": "stdout",
     "output_type": "stream",
     "text": [
      "Точность составляет: 96.66666666666667 %\n"
     ]
    }
   ],
   "source": [
    "# Выведем точность модели\n",
    "print(f'Точность составляет: {TestPrediction(clf, X_test, y_test)*100} %')"
   ]
  },
  {
   "cell_type": "markdown",
   "metadata": {
    "id": "3As9SCfw5vNV"
   },
   "source": [
    "### Проверим работу на конкретных примерах"
   ]
  },
  {
   "cell_type": "code",
   "execution_count": null,
   "metadata": {
    "id": "ggUGtLyq5vNX"
   },
   "outputs": [],
   "source": [
    "# Функция предсказания с обработкой входных данных\n",
    "def predict(model, img):\n",
    "    # Отмасштабируем изображение\n",
    "    img = cv2.resize(img, (IMG_WIDTH, IMG_HEIGHT))\n",
    "    \n",
    "    # Возьмем HOG в качестве признака\n",
    "    HOG, HOG_img = GetHOG(img.copy(), settings)\n",
    "    return model.predict([HOG])"
   ]
  },
  {
   "cell_type": "code",
   "execution_count": null,
   "metadata": {
    "colab": {
     "base_uri": "https://localhost:8080/",
     "height": 1000
    },
    "executionInfo": {
     "elapsed": 24848,
     "status": "error",
     "timestamp": 1601872834820,
     "user": {
      "displayName": "Сурначев Никита",
      "photoUrl": "",
      "userId": "06713969920483024372"
     },
     "user_tz": -180
    },
    "id": "1Czf0KU05vNa",
    "outputId": "97155f82-afba-4d9b-8936-5ac092692a10"
   },
   "outputs": [
    {
     "name": "stdout",
     "output_type": "stream",
     "text": [
      "На картинке есть лого: 1\n",
      "На самом деле: 1\n",
      "На картинке есть лого: 1\n",
      "На самом деле: 1\n",
      "На картинке есть лого: 1\n",
      "На самом деле: 1\n",
      "На картинке есть лого: 1\n",
      "На самом деле: 1\n",
      "На картинке есть лого: 1\n",
      "На самом деле: 1\n",
      "На картинке есть лого: 1\n",
      "На самом деле: 1\n",
      "На картинке есть лого: 1\n",
      "На самом деле: 1\n",
      "На картинке есть лого: 1\n",
      "На самом деле: 1\n",
      "На картинке есть лого: 1\n",
      "На самом деле: 1\n",
      "На картинке есть лого: 1\n",
      "На самом деле: 1\n",
      "На картинке есть лого: 1\n",
      "На самом деле: 1\n",
      "На картинке есть лого: 1\n",
      "На самом деле: 1\n",
      "На картинке есть лого: 1\n",
      "На самом деле: 1\n",
      "На картинке есть лого: 1\n",
      "На самом деле: 1\n",
      "На картинке есть лого: 1\n",
      "На самом деле: 1\n",
      "На картинке есть лого: 1\n",
      "На самом деле: 1\n",
      "На картинке есть лого: 1\n",
      "На самом деле: 1\n",
      "На картинке есть лого: 1\n",
      "На самом деле: 1\n",
      "На картинке есть лого: 1\n",
      "На самом деле: 1\n",
      "На картинке есть лого: 1\n",
      "На самом деле: 1\n",
      "На картинке есть лого: 1\n",
      "На самом деле: 1\n",
      "На картинке есть лого: 1\n",
      "На самом деле: 1\n",
      "На картинке есть лого: 1\n",
      "На самом деле: 1\n",
      "На картинке есть лого: 1\n",
      "На самом деле: 1\n",
      "На картинке есть лого: 1\n",
      "На самом деле: 1\n",
      "На картинке есть лого: 1\n",
      "На самом деле: 1\n",
      "На картинке есть лого: 2\n",
      "На самом деле: 1\n",
      "На картинке есть лого: 1\n",
      "На самом деле: 1\n",
      "На картинке есть лого: 1\n",
      "На самом деле: 1\n",
      "На картинке есть лого: 1\n",
      "На самом деле: 1\n",
      "На картинке есть лого: 1\n",
      "На самом деле: 1\n",
      "На картинке есть лого: 1\n",
      "На самом деле: 1\n",
      "На картинке есть лого: 1\n",
      "На самом деле: 1\n",
      "На картинке есть лого: 1\n",
      "На самом деле: 1\n",
      "На картинке есть лого: 1\n",
      "На самом деле: 1\n",
      "На картинке есть лого: 1\n",
      "На самом деле: 1\n",
      "На картинке есть лого: 1\n",
      "На самом деле: 1\n",
      "На картинке есть лого: 1\n",
      "На самом деле: 1\n",
      "На картинке есть лого: 1\n",
      "На самом деле: 1\n",
      "На картинке есть лого: 1\n",
      "На самом деле: 1\n",
      "На картинке есть лого: 1\n",
      "На самом деле: 1\n",
      "На картинке есть лого: 1\n",
      "На самом деле: 1\n",
      "На картинке есть лого: 1\n",
      "На самом деле: 1\n",
      "На картинке есть лого: 1\n",
      "На самом деле: 1\n",
      "На картинке есть лого: 1\n",
      "На самом деле: 1\n",
      "На картинке есть лого: 1\n",
      "На самом деле: 1\n",
      "На картинке есть лого: 2\n",
      "На самом деле: 1\n",
      "На картинке есть лого: 1\n",
      "На самом деле: 1\n",
      "На картинке есть лого: 1\n",
      "На самом деле: 1\n",
      "На картинке есть лого: 1\n",
      "На самом деле: 1\n",
      "На картинке есть лого: 1\n",
      "На самом деле: 1\n",
      "На картинке есть лого: 1\n",
      "На самом деле: 1\n",
      "На картинке есть лого: 1\n",
      "На самом деле: 1\n",
      "На картинке есть лого: 1\n",
      "На самом деле: 1\n",
      "На картинке есть лого: 1\n",
      "На самом деле: 1\n",
      "На картинке есть лого: 1\n",
      "На самом деле: 1\n",
      "На картинке есть лого: 1\n",
      "На самом деле: 1\n",
      "На картинке есть лого: 1\n",
      "На самом деле: 1\n",
      "На картинке есть лого: 1\n",
      "На самом деле: 1\n",
      "На картинке есть лого: 1\n",
      "На самом деле: 1\n",
      "На картинке есть лого: 1\n",
      "На самом деле: 1\n",
      "На картинке есть лого: 2\n",
      "На самом деле: 1\n",
      "На картинке есть лого: 1\n",
      "На самом деле: 1\n",
      "На картинке есть лого: 1\n",
      "На самом деле: 1\n",
      "На картинке есть лого: 1\n",
      "На самом деле: 1\n",
      "На картинке есть лого: 1\n",
      "На самом деле: 1\n",
      "На картинке есть лого: 1\n",
      "На самом деле: 1\n",
      "На картинке есть лого: 1\n",
      "На самом деле: 1\n",
      "На картинке есть лого: 1\n",
      "На самом деле: 1\n",
      "На картинке есть лого: 1\n",
      "На самом деле: 1\n",
      "На картинке есть лого: 1\n",
      "На самом деле: 1\n",
      "На картинке есть лого: 1\n",
      "На самом деле: 1\n",
      "На картинке есть лого: 1\n",
      "На самом деле: 1\n",
      "На картинке есть лого: 1\n",
      "На самом деле: 1\n",
      "На картинке есть лого: 1\n",
      "На самом деле: 1\n",
      "На картинке есть лого: 1\n",
      "На самом деле: 1\n",
      "На картинке есть лого: 1\n",
      "На самом деле: 1\n",
      "На картинке есть лого: 1\n",
      "На самом деле: 1\n",
      "На картинке есть лого: 1\n",
      "На самом деле: 1\n",
      "На картинке есть лого: 2\n",
      "На самом деле: 1\n",
      "На картинке есть лого: 1\n",
      "На самом деле: 1\n",
      "На картинке есть лого: 1\n",
      "На самом деле: 1\n",
      "На картинке есть лого: 1\n",
      "На самом деле: 1\n",
      "На картинке есть лого: 1\n",
      "На самом деле: 1\n",
      "На картинке есть лого: 1\n",
      "На самом деле: 1\n",
      "На картинке есть лого: 1\n",
      "На самом деле: 1\n",
      "На картинке есть лого: 1\n",
      "На самом деле: 1\n",
      "На картинке есть лого: 1\n",
      "На самом деле: 1\n",
      "На картинке есть лого: 1\n",
      "На самом деле: 1\n",
      "На картинке есть лого: 1\n",
      "На самом деле: 1\n",
      "На картинке есть лого: 1\n",
      "На самом деле: 1\n",
      "На картинке есть лого: 1\n",
      "На самом деле: 1\n",
      "На картинке есть лого: 1\n",
      "На самом деле: 1\n",
      "На картинке есть лого: 1\n",
      "На самом деле: 1\n",
      "На картинке есть лого: 1\n",
      "На самом деле: 1\n",
      "На картинке есть лого: 1\n",
      "На самом деле: 1\n",
      "На картинке есть лого: 2\n",
      "На самом деле: 1\n",
      "На картинке есть лого: 1\n",
      "На самом деле: 1\n"
     ]
    },
    {
     "ename": "KeyboardInterrupt",
     "evalue": "ignored",
     "output_type": "error",
     "traceback": [
      "\u001b[0;31m---------------------------------------------------------------------------\u001b[0m",
      "\u001b[0;31mKeyboardInterrupt\u001b[0m                         Traceback (most recent call last)",
      "\u001b[0;32m<ipython-input-17-d32bb7a1d30b>\u001b[0m in \u001b[0;36m<module>\u001b[0;34m()\u001b[0m\n\u001b[1;32m     10\u001b[0m         \u001b[0mtrue_ans\u001b[0m \u001b[0;34m=\u001b[0m \u001b[0mget_image_class\u001b[0m\u001b[0;34m[\u001b[0m\u001b[0mos\u001b[0m\u001b[0;34m.\u001b[0m\u001b[0mlistdir\u001b[0m\u001b[0;34m(\u001b[0m\u001b[0mprefix\u001b[0m\u001b[0;34m)\u001b[0m\u001b[0;34m[\u001b[0m\u001b[0mimage_idx\u001b[0m\u001b[0;34m]\u001b[0m\u001b[0;34m]\u001b[0m \u001b[0;34m+\u001b[0m \u001b[0;36m1\u001b[0m\u001b[0;34m\u001b[0m\u001b[0;34m\u001b[0m\u001b[0m\n\u001b[1;32m     11\u001b[0m         \u001b[0;32mif\u001b[0m \u001b[0mtrue_ans\u001b[0m \u001b[0;34m==\u001b[0m \u001b[0;36m1\u001b[0m\u001b[0;34m:\u001b[0m\u001b[0;34m\u001b[0m\u001b[0;34m\u001b[0m\u001b[0m\n\u001b[0;32m---> 12\u001b[0;31m             \u001b[0mprint\u001b[0m\u001b[0;34m(\u001b[0m\u001b[0;34mf'На картинке есть лого: {int(predict(clf, img))}\\nНа самом деле: {true_ans}'\u001b[0m\u001b[0;34m)\u001b[0m\u001b[0;34m\u001b[0m\u001b[0;34m\u001b[0m\u001b[0m\n\u001b[0m\u001b[1;32m     13\u001b[0m         \u001b[0;31m# fig, m_axs = plt.subplots(1,1, figsize=(4,4))\u001b[0m\u001b[0;34m\u001b[0m\u001b[0;34m\u001b[0m\u001b[0;34m\u001b[0m\u001b[0m\n\u001b[1;32m     14\u001b[0m         \u001b[0;31m# ax1 = m_axs\u001b[0m\u001b[0;34m\u001b[0m\u001b[0;34m\u001b[0m\u001b[0;34m\u001b[0m\u001b[0m\n",
      "\u001b[0;32m<ipython-input-15-663b15b21bb6>\u001b[0m in \u001b[0;36mpredict\u001b[0;34m(model, img)\u001b[0m\n\u001b[1;32m      6\u001b[0m     \u001b[0;31m# Возьмем HOG в качестве признака\u001b[0m\u001b[0;34m\u001b[0m\u001b[0;34m\u001b[0m\u001b[0;34m\u001b[0m\u001b[0m\n\u001b[1;32m      7\u001b[0m     \u001b[0mHOG\u001b[0m\u001b[0;34m,\u001b[0m \u001b[0mHOG_img\u001b[0m \u001b[0;34m=\u001b[0m \u001b[0mGetHOG\u001b[0m\u001b[0;34m(\u001b[0m\u001b[0mimg\u001b[0m\u001b[0;34m.\u001b[0m\u001b[0mcopy\u001b[0m\u001b[0;34m(\u001b[0m\u001b[0;34m)\u001b[0m\u001b[0;34m,\u001b[0m \u001b[0msettings\u001b[0m\u001b[0;34m)\u001b[0m\u001b[0;34m\u001b[0m\u001b[0;34m\u001b[0m\u001b[0m\n\u001b[0;32m----> 8\u001b[0;31m     \u001b[0;32mreturn\u001b[0m \u001b[0mmodel\u001b[0m\u001b[0;34m.\u001b[0m\u001b[0mpredict\u001b[0m\u001b[0;34m(\u001b[0m\u001b[0;34m[\u001b[0m\u001b[0mHOG\u001b[0m\u001b[0;34m]\u001b[0m\u001b[0;34m)\u001b[0m\u001b[0;34m\u001b[0m\u001b[0;34m\u001b[0m\u001b[0m\n\u001b[0m",
      "\u001b[0;32m/usr/local/lib/python3.6/dist-packages/sklearn/utils/metaestimators.py\u001b[0m in \u001b[0;36m<lambda>\u001b[0;34m(*args, **kwargs)\u001b[0m\n\u001b[1;32m    114\u001b[0m \u001b[0;34m\u001b[0m\u001b[0m\n\u001b[1;32m    115\u001b[0m         \u001b[0;31m# lambda, but not partial, allows help() to work with update_wrapper\u001b[0m\u001b[0;34m\u001b[0m\u001b[0;34m\u001b[0m\u001b[0;34m\u001b[0m\u001b[0m\n\u001b[0;32m--> 116\u001b[0;31m         \u001b[0mout\u001b[0m \u001b[0;34m=\u001b[0m \u001b[0;32mlambda\u001b[0m \u001b[0;34m*\u001b[0m\u001b[0margs\u001b[0m\u001b[0;34m,\u001b[0m \u001b[0;34m**\u001b[0m\u001b[0mkwargs\u001b[0m\u001b[0;34m:\u001b[0m \u001b[0mself\u001b[0m\u001b[0;34m.\u001b[0m\u001b[0mfn\u001b[0m\u001b[0;34m(\u001b[0m\u001b[0mobj\u001b[0m\u001b[0;34m,\u001b[0m \u001b[0;34m*\u001b[0m\u001b[0margs\u001b[0m\u001b[0;34m,\u001b[0m \u001b[0;34m**\u001b[0m\u001b[0mkwargs\u001b[0m\u001b[0;34m)\u001b[0m\u001b[0;34m\u001b[0m\u001b[0;34m\u001b[0m\u001b[0m\n\u001b[0m\u001b[1;32m    117\u001b[0m         \u001b[0;31m# update the docstring of the returned function\u001b[0m\u001b[0;34m\u001b[0m\u001b[0;34m\u001b[0m\u001b[0;34m\u001b[0m\u001b[0m\n\u001b[1;32m    118\u001b[0m         \u001b[0mupdate_wrapper\u001b[0m\u001b[0;34m(\u001b[0m\u001b[0mout\u001b[0m\u001b[0;34m,\u001b[0m \u001b[0mself\u001b[0m\u001b[0;34m.\u001b[0m\u001b[0mfn\u001b[0m\u001b[0;34m)\u001b[0m\u001b[0;34m\u001b[0m\u001b[0;34m\u001b[0m\u001b[0m\n",
      "\u001b[0;32m/usr/local/lib/python3.6/dist-packages/sklearn/pipeline.py\u001b[0m in \u001b[0;36mpredict\u001b[0;34m(self, X, **predict_params)\u001b[0m\n\u001b[1;32m    418\u001b[0m         \u001b[0;32mfor\u001b[0m \u001b[0m_\u001b[0m\u001b[0;34m,\u001b[0m \u001b[0mname\u001b[0m\u001b[0;34m,\u001b[0m \u001b[0mtransform\u001b[0m \u001b[0;32min\u001b[0m \u001b[0mself\u001b[0m\u001b[0;34m.\u001b[0m\u001b[0m_iter\u001b[0m\u001b[0;34m(\u001b[0m\u001b[0mwith_final\u001b[0m\u001b[0;34m=\u001b[0m\u001b[0;32mFalse\u001b[0m\u001b[0;34m)\u001b[0m\u001b[0;34m:\u001b[0m\u001b[0;34m\u001b[0m\u001b[0;34m\u001b[0m\u001b[0m\n\u001b[1;32m    419\u001b[0m             \u001b[0mXt\u001b[0m \u001b[0;34m=\u001b[0m \u001b[0mtransform\u001b[0m\u001b[0;34m.\u001b[0m\u001b[0mtransform\u001b[0m\u001b[0;34m(\u001b[0m\u001b[0mXt\u001b[0m\u001b[0;34m)\u001b[0m\u001b[0;34m\u001b[0m\u001b[0;34m\u001b[0m\u001b[0m\n\u001b[0;32m--> 420\u001b[0;31m         \u001b[0;32mreturn\u001b[0m \u001b[0mself\u001b[0m\u001b[0;34m.\u001b[0m\u001b[0msteps\u001b[0m\u001b[0;34m[\u001b[0m\u001b[0;34m-\u001b[0m\u001b[0;36m1\u001b[0m\u001b[0;34m]\u001b[0m\u001b[0;34m[\u001b[0m\u001b[0;34m-\u001b[0m\u001b[0;36m1\u001b[0m\u001b[0;34m]\u001b[0m\u001b[0;34m.\u001b[0m\u001b[0mpredict\u001b[0m\u001b[0;34m(\u001b[0m\u001b[0mXt\u001b[0m\u001b[0;34m,\u001b[0m \u001b[0;34m**\u001b[0m\u001b[0mpredict_params\u001b[0m\u001b[0;34m)\u001b[0m\u001b[0;34m\u001b[0m\u001b[0;34m\u001b[0m\u001b[0m\n\u001b[0m\u001b[1;32m    421\u001b[0m \u001b[0;34m\u001b[0m\u001b[0m\n\u001b[1;32m    422\u001b[0m     \u001b[0;34m@\u001b[0m\u001b[0mif_delegate_has_method\u001b[0m\u001b[0;34m(\u001b[0m\u001b[0mdelegate\u001b[0m\u001b[0;34m=\u001b[0m\u001b[0;34m'_final_estimator'\u001b[0m\u001b[0;34m)\u001b[0m\u001b[0;34m\u001b[0m\u001b[0;34m\u001b[0m\u001b[0m\n",
      "\u001b[0;32m/usr/local/lib/python3.6/dist-packages/sklearn/svm/_base.py\u001b[0m in \u001b[0;36mpredict\u001b[0;34m(self, X)\u001b[0m\n\u001b[1;32m    592\u001b[0m             \u001b[0my\u001b[0m \u001b[0;34m=\u001b[0m \u001b[0mnp\u001b[0m\u001b[0;34m.\u001b[0m\u001b[0margmax\u001b[0m\u001b[0;34m(\u001b[0m\u001b[0mself\u001b[0m\u001b[0;34m.\u001b[0m\u001b[0mdecision_function\u001b[0m\u001b[0;34m(\u001b[0m\u001b[0mX\u001b[0m\u001b[0;34m)\u001b[0m\u001b[0;34m,\u001b[0m \u001b[0maxis\u001b[0m\u001b[0;34m=\u001b[0m\u001b[0;36m1\u001b[0m\u001b[0;34m)\u001b[0m\u001b[0;34m\u001b[0m\u001b[0;34m\u001b[0m\u001b[0m\n\u001b[1;32m    593\u001b[0m         \u001b[0;32melse\u001b[0m\u001b[0;34m:\u001b[0m\u001b[0;34m\u001b[0m\u001b[0;34m\u001b[0m\u001b[0m\n\u001b[0;32m--> 594\u001b[0;31m             \u001b[0my\u001b[0m \u001b[0;34m=\u001b[0m \u001b[0msuper\u001b[0m\u001b[0;34m(\u001b[0m\u001b[0;34m)\u001b[0m\u001b[0;34m.\u001b[0m\u001b[0mpredict\u001b[0m\u001b[0;34m(\u001b[0m\u001b[0mX\u001b[0m\u001b[0;34m)\u001b[0m\u001b[0;34m\u001b[0m\u001b[0;34m\u001b[0m\u001b[0m\n\u001b[0m\u001b[1;32m    595\u001b[0m         \u001b[0;32mreturn\u001b[0m \u001b[0mself\u001b[0m\u001b[0;34m.\u001b[0m\u001b[0mclasses_\u001b[0m\u001b[0;34m.\u001b[0m\u001b[0mtake\u001b[0m\u001b[0;34m(\u001b[0m\u001b[0mnp\u001b[0m\u001b[0;34m.\u001b[0m\u001b[0masarray\u001b[0m\u001b[0;34m(\u001b[0m\u001b[0my\u001b[0m\u001b[0;34m,\u001b[0m \u001b[0mdtype\u001b[0m\u001b[0;34m=\u001b[0m\u001b[0mnp\u001b[0m\u001b[0;34m.\u001b[0m\u001b[0mintp\u001b[0m\u001b[0;34m)\u001b[0m\u001b[0;34m)\u001b[0m\u001b[0;34m\u001b[0m\u001b[0;34m\u001b[0m\u001b[0m\n\u001b[1;32m    596\u001b[0m \u001b[0;34m\u001b[0m\u001b[0m\n",
      "\u001b[0;32m/usr/local/lib/python3.6/dist-packages/sklearn/svm/_base.py\u001b[0m in \u001b[0;36mpredict\u001b[0;34m(self, X)\u001b[0m\n\u001b[1;32m    315\u001b[0m         \u001b[0mX\u001b[0m \u001b[0;34m=\u001b[0m \u001b[0mself\u001b[0m\u001b[0;34m.\u001b[0m\u001b[0m_validate_for_predict\u001b[0m\u001b[0;34m(\u001b[0m\u001b[0mX\u001b[0m\u001b[0;34m)\u001b[0m\u001b[0;34m\u001b[0m\u001b[0;34m\u001b[0m\u001b[0m\n\u001b[1;32m    316\u001b[0m         \u001b[0mpredict\u001b[0m \u001b[0;34m=\u001b[0m \u001b[0mself\u001b[0m\u001b[0;34m.\u001b[0m\u001b[0m_sparse_predict\u001b[0m \u001b[0;32mif\u001b[0m \u001b[0mself\u001b[0m\u001b[0;34m.\u001b[0m\u001b[0m_sparse\u001b[0m \u001b[0;32melse\u001b[0m \u001b[0mself\u001b[0m\u001b[0;34m.\u001b[0m\u001b[0m_dense_predict\u001b[0m\u001b[0;34m\u001b[0m\u001b[0;34m\u001b[0m\u001b[0m\n\u001b[0;32m--> 317\u001b[0;31m         \u001b[0;32mreturn\u001b[0m \u001b[0mpredict\u001b[0m\u001b[0;34m(\u001b[0m\u001b[0mX\u001b[0m\u001b[0;34m)\u001b[0m\u001b[0;34m\u001b[0m\u001b[0;34m\u001b[0m\u001b[0m\n\u001b[0m\u001b[1;32m    318\u001b[0m \u001b[0;34m\u001b[0m\u001b[0m\n\u001b[1;32m    319\u001b[0m     \u001b[0;32mdef\u001b[0m \u001b[0m_dense_predict\u001b[0m\u001b[0;34m(\u001b[0m\u001b[0mself\u001b[0m\u001b[0;34m,\u001b[0m \u001b[0mX\u001b[0m\u001b[0;34m)\u001b[0m\u001b[0;34m:\u001b[0m\u001b[0;34m\u001b[0m\u001b[0;34m\u001b[0m\u001b[0m\n",
      "\u001b[0;32m/usr/local/lib/python3.6/dist-packages/sklearn/svm/_base.py\u001b[0m in \u001b[0;36m_dense_predict\u001b[0;34m(self, X)\u001b[0m\n\u001b[1;32m    337\u001b[0m             \u001b[0mself\u001b[0m\u001b[0;34m.\u001b[0m\u001b[0mprobA_\u001b[0m\u001b[0;34m,\u001b[0m \u001b[0mself\u001b[0m\u001b[0;34m.\u001b[0m\u001b[0mprobB_\u001b[0m\u001b[0;34m,\u001b[0m \u001b[0msvm_type\u001b[0m\u001b[0;34m=\u001b[0m\u001b[0msvm_type\u001b[0m\u001b[0;34m,\u001b[0m \u001b[0mkernel\u001b[0m\u001b[0;34m=\u001b[0m\u001b[0mkernel\u001b[0m\u001b[0;34m,\u001b[0m\u001b[0;34m\u001b[0m\u001b[0;34m\u001b[0m\u001b[0m\n\u001b[1;32m    338\u001b[0m             \u001b[0mdegree\u001b[0m\u001b[0;34m=\u001b[0m\u001b[0mself\u001b[0m\u001b[0;34m.\u001b[0m\u001b[0mdegree\u001b[0m\u001b[0;34m,\u001b[0m \u001b[0mcoef0\u001b[0m\u001b[0;34m=\u001b[0m\u001b[0mself\u001b[0m\u001b[0;34m.\u001b[0m\u001b[0mcoef0\u001b[0m\u001b[0;34m,\u001b[0m \u001b[0mgamma\u001b[0m\u001b[0;34m=\u001b[0m\u001b[0mself\u001b[0m\u001b[0;34m.\u001b[0m\u001b[0m_gamma\u001b[0m\u001b[0;34m,\u001b[0m\u001b[0;34m\u001b[0m\u001b[0;34m\u001b[0m\u001b[0m\n\u001b[0;32m--> 339\u001b[0;31m             cache_size=self.cache_size)\n\u001b[0m\u001b[1;32m    340\u001b[0m \u001b[0;34m\u001b[0m\u001b[0m\n\u001b[1;32m    341\u001b[0m     \u001b[0;32mdef\u001b[0m \u001b[0m_sparse_predict\u001b[0m\u001b[0;34m(\u001b[0m\u001b[0mself\u001b[0m\u001b[0;34m,\u001b[0m \u001b[0mX\u001b[0m\u001b[0;34m)\u001b[0m\u001b[0;34m:\u001b[0m\u001b[0;34m\u001b[0m\u001b[0;34m\u001b[0m\u001b[0m\n",
      "\u001b[0;31mKeyboardInterrupt\u001b[0m: "
     ]
    }
   ],
   "source": [
    "prefix = train_dataset_dir\n",
    "for image_idx in range(len(os.listdir(prefix))):\n",
    "    # Укажем путь к картинке\n",
    "    path = prefix+str(os.listdir(prefix)[image_idx])\n",
    "    if(path[-3:]!=\"jpg\"):\n",
    "        print(\"Неверный формат файла\")\n",
    "    else:\n",
    "        img = cv2.imread(path)\n",
    "        img = convert(img, 'bgr', 'rgb')\n",
    "        true_ans = get_image_class[os.listdir(prefix)[image_idx]] + 1\n",
    "        if true_ans == 1:\n",
    "            print(f'На картинке есть лого: {int(predict(clf, img))}\\nНа самом деле: {true_ans}')\n",
    "        # fig, m_axs = plt.subplots(1,1, figsize=(4,4))\n",
    "        # ax1 = m_axs\n",
    "        \n",
    "        # ax1.set_title('Изображение')\n",
    "        # ax1.imshow(img)"
   ]
  },
  {
   "cell_type": "code",
   "execution_count": null,
   "metadata": {
    "id": "NuEGpLsLNX9e"
   },
   "outputs": [],
   "source": []
  }
 ],
 "metadata": {
  "colab": {
   "collapsed_sections": [],
   "name": "svm_classifier.ipynb",
   "provenance": []
  },
  "kernelspec": {
   "display_name": "Python 3",
   "language": "python",
   "name": "python3"
  },
  "language_info": {
   "codemirror_mode": {
    "name": "ipython",
    "version": 3
   },
   "file_extension": ".py",
   "mimetype": "text/x-python",
   "name": "python",
   "nbconvert_exporter": "python",
   "pygments_lexer": "ipython3",
   "version": "3.7.4"
  }
 },
 "nbformat": 4,
 "nbformat_minor": 1
}
